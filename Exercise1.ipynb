{
 "cells": [
  {
   "cell_type": "markdown",
   "metadata": {},
   "source": [
    "# Exercise 1 : ANLY 535-51- B-2018/Late Fall - Machine Learning II  \n",
    "\n",
    "## Smitha Shivakumar\n",
    "## 11/18/2018\n",
    "\n",
    "\n",
    "### Problem Statement\n",
    "\n",
    "Two sensors are installed in Susquehanna river that can measure the level of the water on two different locations. Their measurements goes through a neural network and the output shows if there is a chance of flood or not (y=1 means there is a chance of flood). Suppose sensor 1 shows 0.4 feet while the second one shows 0.32 feet. Is there any chance of flood?\n",
    "\n",
    "#### Notes for the solution: \n",
    "      1. Please use Python to answer to the question\n",
    "      2. Please generate Random vectors and matrices (using numpy) for weights and bias( seed = 123)\n",
    "      3. Must explain the final result\n",
    "    "
   ]
  },
  {
   "cell_type": "code",
   "execution_count": 60,
   "metadata": {
    "collapsed": false
   },
   "outputs": [],
   "source": [
    "import numpy as np\n",
    "\n",
    "# creating the sigmoid function\n",
    "def activation_function(x,deriv=False):\n",
    "\tif(deriv==True):\n",
    "\t    return x*(1-x)\n",
    "\n",
    "\treturn 1/(1+np.exp(-x))\n",
    "\n",
    "\n",
    "\n",
    "def NeuralNetwork(input_vector):\n",
    "    \n",
    "    # running the network with an input vector input_vector.\n",
    "    input_vector = np.array(input_vector,ndmin=2)\n",
    "    \n",
    "    # setting the seed value for the random number geenration\n",
    "    np.random.seed(123)\n",
    "    \n",
    "    #Initializing the weight matrices of the neural network  \n",
    "    weights_in_hidden = np.random.rand(input_vector.shape[0],4) \n",
    "    weights_hidden_out = np.random.rand(4,1) \n",
    "\n",
    "    # turning the input vector into a column vector\n",
    "    input_vector = np.array(input_vector, ndmin=2).T\n",
    "    \n",
    "    #calculating the inner hidden layer by multiplying the input vector with the inner hidden weights\n",
    "    output_vector = np.dot(input_vector, weights_in_hidden)\n",
    "    output_vector = activation_function(output_vector)\n",
    "\n",
    "    #calculating the final output yhat by multiplying the hidden layer vector with the outer hidden weights\n",
    "    output_vector = np.dot(output_vector, weights_hidden_out)\n",
    "    output_vector = activation_function(output_vector)\n",
    "\n",
    "    return output_vector"
   ]
  },
  {
   "cell_type": "code",
   "execution_count": 61,
   "metadata": {
    "collapsed": false
   },
   "outputs": [
    {
     "data": {
      "text/plain": [
       "array([[0.82139132],\n",
       "       [0.81781342]])"
      ]
     },
     "execution_count": 61,
     "metadata": {},
     "output_type": "execute_result"
    }
   ],
   "source": [
    "NeuralNetwork([0.4,0.32])"
   ]
  },
  {
   "cell_type": "markdown",
   "metadata": {
    "collapsed": true
   },
   "source": [
    "\n",
    "### Conculsion:\n",
    "\n",
    "The output ŷ of a simple 2-layer Neural Network is: ŷ = sigmoid_func(W2 * sigmoid_func(W1*x + b1) + b2)\n",
    "\n",
    "So the weights W and the biases b are the only variables that affects the output ŷ.\n",
    "\n",
    "As mentioned in the question 'y=1' means there is a chance of flood\n",
    "\n",
    "So for our inputs 0.4 and 0.32, our ŷ is 0.8214 and 0.8178 which are less than 1. So, there is a greater than 2/3rd's of a  probability that flood might occur.\n",
    "\n",
    "Also note there is a marginal higher probability of flood occuring for sensor1 = 0.4 (ŷ = 0.8214) than 0.32 (ŷ = 0.8178)\n",
    "\n",
    "Running the same Neural Net for a wider array of sensor values below, it is seen that the NeuralNetowrk built in this exercise shows higher probability/output value for higher sensor/input values.\n"
   ]
  },
  {
   "cell_type": "code",
   "execution_count": 62,
   "metadata": {
    "collapsed": false
   },
   "outputs": [
    {
     "data": {
      "text/plain": [
       "array([[0.82139132],\n",
       "       [0.81781342],\n",
       "       [0.83736548],\n",
       "       [0.84318336],\n",
       "       [0.83209654],\n",
       "       [0.80904069]])"
      ]
     },
     "execution_count": 62,
     "metadata": {},
     "output_type": "execute_result"
    }
   ],
   "source": [
    "NeuralNetwork([0.4,0.32,0.78,0.93,0.65,0.13])"
   ]
  }
 ],
 "metadata": {
  "anaconda-cloud": {},
  "kernelspec": {
   "display_name": "Python [conda env:Anaconda3]",
   "language": "python",
   "name": "conda-env-Anaconda3-py"
  },
  "language_info": {
   "codemirror_mode": {
    "name": "ipython",
    "version": 3
   },
   "file_extension": ".py",
   "mimetype": "text/x-python",
   "name": "python",
   "nbconvert_exporter": "python",
   "pygments_lexer": "ipython3",
   "version": "3.5.2"
  }
 },
 "nbformat": 4,
 "nbformat_minor": 1
}
